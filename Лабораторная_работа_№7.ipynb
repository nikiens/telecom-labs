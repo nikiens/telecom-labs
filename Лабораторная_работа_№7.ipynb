{
  "cells": [
    {
      "cell_type": "markdown",
      "metadata": {
        "id": "_QNVXSR99vVe"
      },
      "source": [
        "## Exercise 1\n",
        "\n",
        "In this chapter, I showed how we can express the DFT and inverse DFT\n",
        "as matrix multiplications.  These operations take time proportional to\n",
        "$N^2$, where $N$ is the length of the wave array.  That is fast enough\n",
        "for many applications, but there is a faster\n",
        "algorithm, the Fast Fourier Transform (FFT), which takes time\n",
        "proportional to $N \\log N$.\n",
        "\n",
        "The key to the FFT is the Danielson-Lanczos lemma:\n",
        "\n",
        "$DFT(y)[n] = DFT(e)[n] + \\exp(-2 \\pi i n / N) DFT(o)[n]$\n",
        "\n",
        "Where $ DFT(y)[n]$ is the $n$th element of the DFT of $y$; $e$ is the even elements of $y$, and $o$ is the odd elements of $y$.\n",
        "\n",
        "This lemma suggests a recursive algorithm for the DFT:\n",
        "\n",
        "1. Given a wave array, $y$, split it into its even elements, $e$, and its odd elements, $o$.\n",
        "\n",
        "2. Compute the DFT of $e$ and $o$ by making recursive calls.\n",
        "\n",
        "3. Compute $DFT(y)$ for each value of $n$ using the Danielson-Lanczos lemma.\n",
        "\n",
        "For the base case of this recursion, you could wait until the length\n",
        "of $y$ is 1.  In that case, $DFT(y) = y$.  Or if the length of $y$\n",
        "is sufficiently small, you could compute its DFT by matrix multiplication,\n",
        "possibly using a precomputed matrix.\n",
        "\n",
        "Hint: I suggest you implement this algorithm incrementally by starting\n",
        "with a version that is not truly recursive.  In Step 2, instead of\n",
        "making a recursive call, use `dft` or `np.fft.fft`.  Get Step 3 working,\n",
        "and confirm that the results are consistent with the other\n",
        "implementations.  Then add a base case and confirm that it works.\n",
        "Finally, replace Step 2 with recursive calls.\n",
        "\n",
        "One more hint: Remember that the DFT is periodic; you might find `np.tile` useful."
      ]
    },
    {
      "cell_type": "markdown",
      "metadata": {
        "id": "Tp3HvINU9vVi"
      },
      "source": [
        "В качестве теста воспользуемся небольшим сигналом и вычислим его BPF"
      ]
    },
    {
      "cell_type": "code",
      "source": [
        "import numpy as np\n",
        "PI2 = 2 * np.pi"
      ],
      "metadata": {
        "id": "qiK0ZazTFBEu"
      },
      "execution_count": 9,
      "outputs": []
    },
    {
      "cell_type": "code",
      "execution_count": 2,
      "metadata": {
        "jupyter": {
          "outputs_hidden": false
        },
        "id": "d9sgynM59vVj",
        "outputId": "08364834-8409-4203-b410-e991c08c460a",
        "colab": {
          "base_uri": "https://localhost:8080/"
        }
      },
      "outputs": [
        {
          "output_type": "stream",
          "name": "stdout",
          "text": [
            "[ 0.2+0.j  -1.2-0.2j  0.2+0.j  -1.2+0.2j]\n"
          ]
        }
      ],
      "source": [
        "ys = [-0.5, 0.1, 0.7, -0.1]\n",
        "hs = np.fft.fft(ys)\n",
        "print(hs)"
      ]
    },
    {
      "cell_type": "markdown",
      "metadata": {
        "id": "On1VvFdz9vVl"
      },
      "source": [
        "Реализация DFT, взятая из книги"
      ]
    },
    {
      "cell_type": "code",
      "execution_count": 3,
      "metadata": {
        "jupyter": {
          "outputs_hidden": false
        },
        "id": "8xBgYR3h9vVl"
      },
      "outputs": [],
      "source": [
        "def dft(ys):\n",
        "    N = len(ys)\n",
        "    ts = np.arange(N) / N\n",
        "    freqs = np.arange(N)\n",
        "    args = np.outer(ts, freqs)\n",
        "    M = np.exp(1j * PI2 * args)\n",
        "    amps = M.conj().transpose().dot(ys)\n",
        "    return amps"
      ]
    },
    {
      "cell_type": "markdown",
      "metadata": {
        "id": "51fF2VrM9vVm"
      },
      "source": [
        "Реализация выдает такой же результат"
      ]
    },
    {
      "cell_type": "code",
      "execution_count": 4,
      "metadata": {
        "jupyter": {
          "outputs_hidden": false
        },
        "id": "mcqsUA589vVn",
        "outputId": "766286d1-5ea2-49f6-c77d-62ab9b171c71",
        "colab": {
          "base_uri": "https://localhost:8080/"
        }
      },
      "outputs": [
        {
          "output_type": "execute_result",
          "data": {
            "text/plain": [
              "5.864775846765962e-16"
            ]
          },
          "metadata": {},
          "execution_count": 4
        }
      ],
      "source": [
        "hs2 = dft(ys)\n",
        "np.sum(np.abs(hs - hs2))"
      ]
    },
    {
      "cell_type": "markdown",
      "metadata": {
        "id": "_JEi0EVY9vVo"
      },
      "source": [
        "Версия рекурсивной BPF, где разбивается входной массив и используется np.fft.fft для вычисления BPF половин."
      ]
    },
    {
      "cell_type": "code",
      "execution_count": 5,
      "metadata": {
        "jupyter": {
          "outputs_hidden": false
        },
        "id": "S8KeKqZg9vVp"
      },
      "outputs": [],
      "source": [
        "def fft_norec(ys):\n",
        "    N = len(ys)\n",
        "    He = np.fft.fft(ys[::2])\n",
        "    Ho = np.fft.fft(ys[1::2])\n",
        "    \n",
        "    ns = np.arange(N)\n",
        "    W = np.exp(-1j * PI2 * ns / N)\n",
        "    \n",
        "    return np.tile(He, 2) + W * np.tile(Ho, 2)"
      ]
    },
    {
      "cell_type": "markdown",
      "metadata": {
        "id": "rnNkBq-29vVp"
      },
      "source": [
        "В результате получаем одинаковые результаты"
      ]
    },
    {
      "cell_type": "code",
      "execution_count": 6,
      "metadata": {
        "jupyter": {
          "outputs_hidden": false
        },
        "id": "UqMSmqIc9vVq",
        "outputId": "f930933d-9985-47e2-a4fc-0e9b16a6b5ed",
        "colab": {
          "base_uri": "https://localhost:8080/"
        }
      },
      "outputs": [
        {
          "output_type": "execute_result",
          "data": {
            "text/plain": [
              "0.0"
            ]
          },
          "metadata": {},
          "execution_count": 6
        }
      ],
      "source": [
        "hs3 = fft_norec(ys)\n",
        "np.sum(np.abs(hs - hs3))"
      ]
    },
    {
      "cell_type": "markdown",
      "metadata": {
        "id": "BcU3u5aQ9vVq"
      },
      "source": [
        "Теперь можно удалить `np.fft.fft`"
      ]
    },
    {
      "cell_type": "code",
      "execution_count": 7,
      "metadata": {
        "jupyter": {
          "outputs_hidden": false
        },
        "id": "0PzXig8c9vVr"
      },
      "outputs": [],
      "source": [
        "def fft(ys):\n",
        "    N = len(ys)\n",
        "    if N == 1:\n",
        "        return ys\n",
        "    \n",
        "    He = fft(ys[::2])\n",
        "    Ho = fft(ys[1::2])\n",
        "    \n",
        "    ns = np.arange(N)\n",
        "    W = np.exp(-1j * PI2 * ns / N)\n",
        "    \n",
        "    return np.tile(He, 2) + W * np.tile(Ho, 2)"
      ]
    },
    {
      "cell_type": "markdown",
      "metadata": {
        "id": "L6AaAEl39vVs"
      },
      "source": [
        "В результате получим те же самые результаты"
      ]
    },
    {
      "cell_type": "code",
      "execution_count": 8,
      "metadata": {
        "jupyter": {
          "outputs_hidden": false
        },
        "id": "dMKODnxP9vVt",
        "outputId": "30303d22-5250-4983-b9a9-1b0ef922f6f2",
        "colab": {
          "base_uri": "https://localhost:8080/"
        }
      },
      "outputs": [
        {
          "output_type": "execute_result",
          "data": {
            "text/plain": [
              "1.6653345369377348e-16"
            ]
          },
          "metadata": {},
          "execution_count": 8
        }
      ],
      "source": [
        "hs4 = fft(ys)\n",
        "np.sum(np.abs(hs - hs4))"
      ]
    },
    {
      "cell_type": "code",
      "execution_count": null,
      "metadata": {
        "collapsed": true,
        "jupyter": {
          "outputs_hidden": true
        },
        "id": "GOXCMiyy9vVu"
      },
      "outputs": [],
      "source": [
        ""
      ]
    }
  ],
  "metadata": {
    "kernelspec": {
      "display_name": "Python 3",
      "language": "python",
      "name": "python3"
    },
    "language_info": {
      "codemirror_mode": {
        "name": "ipython",
        "version": 3
      },
      "file_extension": ".py",
      "mimetype": "text/x-python",
      "name": "python",
      "nbconvert_exporter": "python",
      "pygments_lexer": "ipython3",
      "version": "3.6.10"
    },
    "colab": {
      "name": "Лабораторная работа №7",
      "provenance": []
    }
  },
  "nbformat": 4,
  "nbformat_minor": 0
}